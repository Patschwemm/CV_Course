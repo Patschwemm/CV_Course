{
 "cells": [
  {
   "cell_type": "markdown",
   "metadata": {},
   "source": [
    "# MA - INF 2201 - Computer Vision WS 22/23\n",
    "\n",
    "### Exercise Sheet 06\n",
    "\n"
   ]
  },
  {
   "cell_type": "code",
   "execution_count": 3,
   "metadata": {},
   "outputs": [],
   "source": [
    "from matplotlib import pyplot as plt\n",
    "import numpy as np\n",
    "import cv2 as cv"
   ]
  },
  {
   "cell_type": "markdown",
   "metadata": {},
   "source": [
    "**2.** Kalman Filtering\n",
    "\n",
    "You need to implement the basic Kalman Filtering algorithm. You observe a set of 2D noisy observations (xi,yi) which are the coordinates of the 2D space as shown in Figure 1.\n",
    "\n",
    "**State**: The state of the object should be the 4D vector (x,y,vx,vy) which denote\n",
    "the location and the velocity in each axis.\n",
    "\n",
    "**Initial State**: You should consider the initial state of (−10,−150,1,−2).\n",
    "\n",
    "**Time Evolution Equation**: What should be the time evolution equation?\n",
    "**Measurement Equation**: What should be the measurement equation?\n",
    "\n",
    "Code for reading observations is provided. You should write code for performing the\n",
    "kalman filtering. You may use numpy for matrix operations. At the end visualize\n",
    "the filtered output. Use the template task02.py.\n",
    "\n",
    "(5 points)"
   ]
  },
  {
   "cell_type": "code",
   "execution_count": 8,
   "metadata": {},
   "outputs": [
    {
     "data": {
      "image/png": "[encoded data removed]",
      "text/plain": [
       "<Figure size 720x720 with 1 Axes>"
      ]
     },
     "metadata": {
      "needs_background": "light"
     },
     "output_type": "display_data"
    }
   ],
   "source": [
    "\n",
    "observations = np.load('data/observations.npy')\n",
    "\n",
    "\n",
    "def get_observation(t):\n",
    "    return observations[t]\n",
    "\n",
    "def get_data_at_iteration(n, datalist):\n",
    "    x_1 = [x[0] for x in datalist[:n+1]]\n",
    "    y_1 = [x[1] for x in datalist[:n+1]]\n",
    "\n",
    "    return x_1, y_1 \n",
    "\n",
    "\n",
    "class KalmanFilter(object):\n",
    "    def __init__(self, psi, sigma_p, phi, sigma_m, tau):\n",
    "        self.psi = psi\n",
    "        self.sigma_p = sigma_p\n",
    "        self.phi = phi\n",
    "        self.sigma_m = sigma_m\n",
    "        self.state = None\n",
    "        self.convariance = None\n",
    "        self.tau = tau\n",
    "\n",
    "    def init(self, init_state):\n",
    "        # self.state =\n",
    "        # self.covariance =\n",
    "        pass\n",
    "\n",
    "    def track(self, xt):\n",
    "        # to do\n",
    "        pass\n",
    "\n",
    "    def get_current_location(self):\n",
    "        # to do\n",
    "        pass\n",
    "\n",
    "def perform_tracking(tracker):\n",
    "    track = []\n",
    "    for t in range(len(observations)):\n",
    "        tracker.track(get_observation(t))\n",
    "        track.append(tracker.get_current_location())\n",
    "\n",
    "    return track\n",
    "\n",
    "def get_world_model():\n",
    "    psi = np.array([[1, 0, 1.5, 0],\n",
    "                    [0, 1, 0, 0.5],\n",
    "                    [0, 0, -1, 0],\n",
    "                    [0, 0, 0, -2]])\n",
    "    sp = 0.001\n",
    "    sigma_p = np.array([[sp, 0, 0, 0],\n",
    "                        [0, sp, 0, 0],\n",
    "                        [0, 0, sp, 0],\n",
    "                        [0, 0, 0, sp]])\n",
    "\n",
    "    phi = np.array([[1, 0, 0, 0],\n",
    "                    [0, 1, 0, 0]])\n",
    "    sm = 0.05\n",
    "    sigma_m = np.array([[sm, 0],\n",
    "                        [0, sm]])\n",
    "\n",
    "    return psi, sigma_p, phi, sigma_m \n",
    "\n",
    "def main():\n",
    "\n",
    "    psi, sigma_p, phi, sigma_m = get_world_model()\n",
    "\n",
    "\n",
    "    fig = plt.figure(figsize=(10, 10))\n",
    "    ax = fig.add_subplot(111)\n",
    "\n",
    "    num_steps = len(observations) \n",
    "    for n in range(num_steps):\n",
    "        ax.clear()\n",
    "        o_x, o_y = get_data_at_iteration(n, observations) \n",
    "        # TODO: \n",
    "        #t_x, t_y = get_data_at_iteration(n, track) \n",
    "        t_x, t_y = 0, 0\n",
    "         \n",
    "        ax.plot(o_x, o_y, 'g', label='observations')\n",
    "        ax.plot(t_x, t_y, 'y', label='Kalman')\n",
    "        ax.legend()\n",
    "        plt.pause(0.01)\n",
    "    plt.pause(3)\n",
    "\n",
    "if __name__ == \"__main__\":\n",
    "    main()\n"
   ]
  },
  {
   "cell_type": "markdown",
   "metadata": {},
   "source": [
    "**3.** Background Subtraction using Gaussian Mixture Models\n",
    "\n",
    "In this exercise we want to perform background subtraction for the provided image.\n",
    "The image comes with a rectangular bounding box that contains some skin color\n",
    "pixels (foreground). For this task you are required to implement a Gaussian Mixture\n",
    "Model and the EM algorithm for training. Assume that all covariance matrices are\n",
    "diagonal.\n",
    "\n",
    "**(a)** Implement the function fit single gaussian which fits a single Gaussian to provided data.\n",
    "(1 point)\n",
    "\n",
    "**(b)** GMMs rely on a good initialization. One strategy is to start with a single\n",
    "Gaussian model, split it into two distributions (GMM with two mixtures) and\n",
    "train it using the EM algorithm. For a GMM with four mixtures, both of the\n",
    "previous distributions can be splitted again. Implement the split function that\n",
    "doubles the number of components in the current Gaussian mixture model. In\n",
    "particular, generate 2K components out of K components as follows:\n",
    "\n",
    "- Duplicate the weights $\\sigma$k so you have 2K weights. Divide by two to ensure $\\sum_k \\sigma_k = 1$.\n",
    "- For each mean $\\mu_k$, generate two new means $\\mu_{k1} = \\mu_{k} +  \\cdot \\epsilon_k$ and $\\mu_{k2} = \\mu_{k} -  \\cdot \\epsilon_k$.\n",
    "- Duplicate the K diagonal covariance matrices so you have 2K diagonal\n",
    "covariance matrices.\n",
    "(2 points)\n",
    "\n",
    "**(c)** Implement the EM algorithm to train the GMM.\n",
    "(5 points)\n",
    "\n",
    "**(d)** Background Subtraction Train a GMM with 4 components (start with a\n",
    "single Gaussian and do 2 component splits) for the background pixels. Using\n",
    "the thresholding approach from the lecture, set every pixel in the image to zero\n",
    "which is above a threshold τ. Display the resulting image.\n",
    "(2 points)"
   ]
  },
  {
   "cell_type": "code",
   "execution_count": 5,
   "metadata": {},
   "outputs": [],
   "source": [
    "def read_image(filename):\n",
    "    '''\n",
    "    load the image and foreground/background parts\n",
    "    image: the original image\n",
    "    background/foreground: numpy array of size (n_pixels, 3) (3 for RGB values), i.e. the data you need to train the GMM\n",
    "    '''\n",
    "    image = cv.imread(filename) / 255\n",
    "    height, width = image.shape[:2]\n",
    "    bounding_box = np.zeros(image.shape)\n",
    "    bounding_box[75:490, 130:250, :] = 1\n",
    "    foreground = image[bounding_box == 1].reshape((-1, 3))\n",
    "    background = image[bounding_box == 0].reshape((-1, 3))\n",
    "    return image, foreground, background\n",
    "\n"
   ]
  },
  {
   "cell_type": "code",
   "execution_count": 156,
   "metadata": {},
   "outputs": [],
   "source": [
    "class Gaussian_Mixture_Model():\n",
    "\n",
    "    def fit_single_gaussian(self, data):\n",
    "        # to create a gaussian we need mean and variance\n",
    "        self.weights = np.array([[1]])\n",
    "        self.mean = np.mean(data, axis=0, keepdims=True)[:, None, :]\n",
    "        # save diagonal covariance values in an array\n",
    "        self.covar = np.var(data, axis=0, keepdims=True)[:, None, :]\n",
    "\n",
    "    def split_gaussian(self, epsilon):\n",
    "        # duplicate weights and divide by 2\n",
    "        self.weights = np.vstack((self.weights/2, self.weights/2))\n",
    "        # new mean according to subtask b.\n",
    "        new_mean1 = self.mean + epsilon * self.covar\n",
    "        new_mean2 = self.mean - epsilon * self.covar \n",
    "        self.mean = np.vstack((new_mean1, new_mean2))\n",
    "        # duplicate covariance matrix\n",
    "        self.covar = np.vstack(((self.covar, self.covar)))\n",
    "\n",
    "    # EM Algorithm:\n",
    "    def e_step(self, data):\n",
    "        # calculate r score, rik is kth responsibility from gaussian for the ith data point\n",
    "        self.gaussians = np.random.normal(\n",
    "            self.mean, \n",
    "            self.covar, \n",
    "            size=(self.mean.shape[0], data.shape[0], data.shape[1])\n",
    "            )\n",
    "        r_numerator = self.gaussians * self.weights[:, None, :]\n",
    "        # take sum of all ith data point (pixel)\n",
    "        r_denominator = np.sum(r_numerator, axis = 1, keepdims=True)\n",
    "        r = r_numerator / r_denominator\n",
    "        return r\n",
    "\n",
    "    def m_step(self, data, r):\n",
    "        self.weights = np.sum(r, axis=1) / np.sum(r)\n",
    "        \n",
    "        print(self.weights)\n",
    "        self.mean = np.sum((r * data), axis=1, keepdims=True) / np.sum(r, axis=1, keepdims=True)\n",
    "        # compute covar with new means\n",
    "        self.covar = np.sum(\n",
    "            (r * (data[None, :, :] - self.mean) * (data[None, :, :] - self.mean)\n",
    "            ), axis=1, keepdims=True) / np.sum(r, axis=1, keepdims=True)\n",
    "\n",
    "    def expectation_max(self, data, iterations):\n",
    "        # do the e-step then the m-step\n",
    "        for i in range(iterations):\n",
    "            r = self.e_step(data)\n",
    "            self.m_step(data, r)\n",
    "            \n",
    "    def train_loop(self, data, splits, iterations, epsilon=0.01):\n",
    "        self.fit_single_gaussian(data)\n",
    "        # split depending on how many splits are given\n",
    "        for i in range(splits):\n",
    "            self.split_gaussian(epsilon)\n",
    "        self.expectation_max(data, iterations)\n",
    "\n",
    "    def get_probabilities(self, data):\n",
    "        self.gaussians = np.random.normal(\n",
    "            self.mean, \n",
    "            self.covar, \n",
    "            size=(self.mean.shape[0], data.shape[0] * data.shape[1], data.shape[2])\n",
    "            )\n",
    "        marginalized = np.sum(self.gaussians * self.weights[:, None, :], axis=0)\n",
    "        return marginalized\n",
    "        \n"
   ]
  },
  {
   "cell_type": "code",
   "execution_count": 157,
   "metadata": {},
   "outputs": [
    {
     "name": "stdout",
     "output_type": "stream",
     "text": [
      "[[0.08333333 0.08333333 0.08333333]\n",
      " [0.08333333 0.08333333 0.08333333]\n",
      " [0.08333333 0.08333333 0.08333333]\n",
      " [0.08333333 0.08333333 0.08333333]]\n",
      "[[0.08333333 0.08333333 0.08333333]\n",
      " [0.08333333 0.08333333 0.08333333]\n",
      " [0.08333333 0.08333333 0.08333333]\n",
      " [0.08333333 0.08333333 0.08333333]]\n",
      "[[0.08333333 0.08333333 0.08333333]\n",
      " [0.08333333 0.08333333 0.08333333]\n",
      " [0.08333333 0.08333333 0.08333333]\n",
      " [0.08333333 0.08333333 0.08333333]]\n",
      "[[0.08333333 0.08333333 0.08333333]\n",
      " [0.08333333 0.08333333 0.08333333]\n",
      " [0.08333333 0.08333333 0.08333333]\n",
      " [0.08333333 0.08333333 0.08333333]]\n",
      "[[0.08333333 0.08333333 0.08333333]\n",
      " [0.08333333 0.08333333 0.08333333]\n",
      " [0.08333333 0.08333333 0.08333333]\n",
      " [0.08333333 0.08333333 0.08333333]]\n",
      "[[0.08333333 0.08333333 0.08333333]\n",
      " [0.08333333 0.08333333 0.08333333]\n",
      " [0.08333333 0.08333333 0.08333333]\n",
      " [0.08333333 0.08333333 0.08333333]]\n",
      "[[0.08333333 0.08333333 0.08333333]\n",
      " [0.08333333 0.08333333 0.08333333]\n",
      " [0.08333333 0.08333333 0.08333333]\n",
      " [0.08333333 0.08333333 0.08333333]]\n",
      "[[0.08333333 0.08333333 0.08333333]\n",
      " [0.08333333 0.08333333 0.08333333]\n",
      " [0.08333333 0.08333333 0.08333333]\n",
      " [0.08333333 0.08333333 0.08333333]]\n",
      "[[0.08333333 0.08333333 0.08333333]\n",
      " [0.08333333 0.08333333 0.08333333]\n",
      " [0.08333333 0.08333333 0.08333333]\n",
      " [0.08333333 0.08333333 0.08333333]]\n",
      "[[0.08333333 0.08333333 0.08333333]\n",
      " [0.08333333 0.08333333 0.08333333]\n",
      " [0.08333333 0.08333333 0.08333333]\n",
      " [0.08333333 0.08333333 0.08333333]]\n"
     ]
    }
   ],
   "source": [
    "'''\n",
    "TODO: compute p(x|w=background) for each image pixel and manipulate the image such that everything below the threshold is black, display the resulting image\n",
    "Hint: Slide 64\n",
    "'''\n",
    "image, foreground, background = read_image('data/cv_is_great.png')\n",
    "gmm = Gaussian_Mixture_Model()\n",
    "gmm.train_loop(background, 2, 10)"
   ]
  },
  {
   "cell_type": "code",
   "execution_count": 158,
   "metadata": {},
   "outputs": [
    {
     "name": "stdout",
     "output_type": "stream",
     "text": [
      "(500, 735, 3)\n",
      "0.18822305801912353\n",
      "0.09637094030774288\n",
      "[39225.91531782 46495.15929617 62103.09709575]\n"
     ]
    },
    {
     "data": {
      "text/plain": [
       "[<matplotlib.lines.Line2D at 0x7fcbc62acb20>,\n",
       " <matplotlib.lines.Line2D at 0x7fcbc62aca60>,\n",
       " <matplotlib.lines.Line2D at 0x7fcbc62ac940>]"
      ]
     },
     "execution_count": 158,
     "metadata": {},
     "output_type": "execute_result"
    },
    {
     "data": {
      "image/png": "[encoded data removed]",
      "text/plain": [
       "<Figure size 432x288 with 1 Axes>"
      ]
     },
     "metadata": {
      "needs_background": "light"
     },
     "output_type": "display_data"
    }
   ],
   "source": [
    "_, ax = plt.subplots(1,1)\n",
    "print(image.shape)\n",
    "gmm_gaussians = gmm.get_probabilities(image)\n",
    "print(np.max(gmm_gaussians))\n",
    "print(np.min(gmm_gaussians))\n",
    "print(np.sum(gmm_gaussians, axis=0))\n",
    "threshold = 0.15\n",
    "gmm_gaussians[gmm_gaussians > threshold]\n",
    "ax.plot(gmm_gaussians)"
   ]
  },
  {
   "cell_type": "code",
   "execution_count": null,
   "metadata": {},
   "outputs": [],
   "source": []
  }
 ],
 "metadata": {
  "kernelspec": {
   "display_name": "Python 3.10.4 ('cv')",
   "language": "python",
   "name": "python3"
  },
  "language_info": {
   "codemirror_mode": {
    "name": "ipython",
    "version": 3
   },
   "file_extension": ".py",
   "mimetype": "text/x-python",
   "name": "python",
   "nbconvert_exporter": "python",
   "pygments_lexer": "ipython3",
   "version": "3.10.4"
  },
  "orig_nbformat": 4,
  "vscode": {
   "interpreter": {
    "hash": "18179530f9ac8914b4c4543ffd1b09c9ada67c7e59da0166b6a8df835459d3ff"
   }
  }
 },
 "nbformat": 4,
 "nbformat_minor": 2
}
