{
 "cells": [
  {
   "cell_type": "markdown",
   "metadata": {},
   "source": [
    "# MA - INF 2201 - Computer Vision WS 22/23\n",
    "\n",
    "### Exercise Sheet 04\n"
   ]
  },
  {
   "cell_type": "markdown",
   "metadata": {},
   "source": [
    "**1.**\n",
    "\n",
    "Read the images ball.png and coffee.png and segment the object in both images\n",
    "using snakes. \n",
    "\n",
    "Initialize the snake by a circle around the object and optimize it\n",
    "using dynamic programming. \n",
    "\n",
    "The elastic term should be used as pairwise cost, penalizing deviation from the average distance between pairs of nodes. \n",
    "\n",
    "Visualize for both images how the snake converges to the boundary of the object.\n",
    "\n",
    "(10 Points)"
   ]
  },
  {
   "cell_type": "code",
   "execution_count": null,
   "metadata": {},
   "outputs": [],
   "source": []
  },
  {
   "cell_type": "markdown",
   "metadata": {},
   "source": [
    "**2.**\n",
    "\n",
    "Read the image ball.png, resize it to half the size, and segment the object in the\n",
    "image using level-sets with an geodesic active contour. \n",
    "\n",
    "Initialize the contour by a circle around the object and compute a signed distance transform to initialize the\n",
    "level-set function. \n",
    "\n",
    "Optimize the geodesic contour by gradient descent.\n",
    "\n",
    "Visualize for the image how the level-set function changes and how the contour converges to the\n",
    "boundary of the object.\n",
    "\n",
    "The proposed metric in geodesic active contours is:\n",
    "\n",
    "$$\n",
    "w(| \\nabla I |) = \\frac{I}{| \\nabla I | + 1}\n",
    "$$\n",
    "\n",
    "(10 Points)"
   ]
  },
  {
   "cell_type": "code",
   "execution_count": null,
   "metadata": {},
   "outputs": [],
   "source": []
  }
 ],
 "metadata": {
  "kernelspec": {
   "display_name": "Python 3.8.10 64-bit",
   "language": "python",
   "name": "python3"
  },
  "language_info": {
   "name": "python",
   "version": "3.8.10"
  },
  "orig_nbformat": 4,
  "vscode": {
   "interpreter": {
    "hash": "31f2aee4e71d21fbe5cf8b01ff0e069b9275f58929596ceb00d14d90e3e16cd6"
   }
  }
 },
 "nbformat": 4,
 "nbformat_minor": 2
}
